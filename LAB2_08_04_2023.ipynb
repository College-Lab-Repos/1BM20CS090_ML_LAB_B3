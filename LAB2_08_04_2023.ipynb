{
  "nbformat": 4,
  "nbformat_minor": 0,
  "metadata": {
    "colab": {
      "provenance": []
    },
    "kernelspec": {
      "name": "python3",
      "display_name": "Python 3"
    },
    "language_info": {
      "name": "python"
    }
  },
  "cells": [
    {
      "cell_type": "code",
      "execution_count": null,
      "metadata": {
        "id": "dV7PYsiC-xmO"
      },
      "outputs": [],
      "source": [
        "import pandas as pd\n",
        "import numpy as np\n",
        "import matplotlib.pyplot as plt\n"
      ]
    },
    {
      "cell_type": "markdown",
      "source": [
        "FIND-S algorithm for finding the most specific hypothesis"
      ],
      "metadata": {
        "id": "TUPmInB1_JRT"
      }
    },
    {
      "cell_type": "code",
      "source": [
        "df = pd.read_excel(\"/content/enjoyspot_dataset.xlsx\")"
      ],
      "metadata": {
        "id": "0ggUAQo6TD-e"
      },
      "execution_count": null,
      "outputs": []
    },
    {
      "cell_type": "code",
      "source": [
        "print(df.columns)"
      ],
      "metadata": {
        "colab": {
          "base_uri": "https://localhost:8080/"
        },
        "id": "rQw04ME-TOCT",
        "outputId": "ab2ee90b-22af-4036-f005-3464bf7c1a2b"
      },
      "execution_count": null,
      "outputs": [
        {
          "output_type": "stream",
          "name": "stdout",
          "text": [
            "Index(['Unnamed: 0', 'Unnamed: 1', 'Unnamed: 2', 'Unnamed: 3', 'Unnamed: 4',\n",
            "       'Unnamed: 5', 'Unnamed: 6', 'Unnamed: 7'],\n",
            "      dtype='object')\n"
          ]
        }
      ]
    },
    {
      "cell_type": "code",
      "source": [
        "df.columns = df.iloc[0]"
      ],
      "metadata": {
        "id": "BxfhPa2oTU02"
      },
      "execution_count": null,
      "outputs": []
    },
    {
      "cell_type": "code",
      "source": [
        "print(df)"
      ],
      "metadata": {
        "colab": {
          "base_uri": "https://localhost:8080/"
        },
        "id": "SGqrhUOiTYaK",
        "outputId": "09b5b71c-4c92-457e-c332-d0116c87d8f2"
      },
      "execution_count": null,
      "outputs": [
        {
          "output_type": "stream",
          "name": "stdout",
          "text": [
            "0  SL NO.    Sky  AirTemp  Humidity    Wind  Water  Forecast  EnjoySpot\n",
            "0  SL NO.    Sky  AirTemp  Humidity    Wind  Water  Forecast  EnjoySpot\n",
            "1       1  Sunny     Warm    Normal  Strong   Warm      Same        Yes\n",
            "2       2  Sunny     Warm      High  Strong   Warm      Same        Yes\n",
            "3       3  Rainy     Cold      High  Strong   Warm    Change         No\n",
            "4       4  Sunny     Warm      High  Strong   Cool    Change        Yes\n"
          ]
        }
      ]
    },
    {
      "cell_type": "code",
      "source": [
        "df=df.drop(0)"
      ],
      "metadata": {
        "id": "madzVE4DTlar"
      },
      "execution_count": null,
      "outputs": []
    },
    {
      "cell_type": "code",
      "source": [
        "df.columns"
      ],
      "metadata": {
        "colab": {
          "base_uri": "https://localhost:8080/"
        },
        "id": "Q_N7juU2ToxF",
        "outputId": "5e6921d1-fbfa-4a60-f9ae-a7aa28b7b68c"
      },
      "execution_count": null,
      "outputs": [
        {
          "output_type": "execute_result",
          "data": {
            "text/plain": [
              "Index(['SL NO.', 'Sky', 'AirTemp', 'Humidity', 'Wind', 'Water', 'Forecast',\n",
              "       'EnjoySpot'],\n",
              "      dtype='object', name=0)"
            ]
          },
          "metadata": {},
          "execution_count": 102
        }
      ]
    },
    {
      "cell_type": "code",
      "source": [
        "df = df.drop([\"SL NO.\"],axis=True)"
      ],
      "metadata": {
        "id": "hfQHmujFT6SO"
      },
      "execution_count": null,
      "outputs": []
    },
    {
      "cell_type": "code",
      "source": [
        "df"
      ],
      "metadata": {
        "colab": {
          "base_uri": "https://localhost:8080/",
          "height": 175
        },
        "id": "Pwk57aMxUG_e",
        "outputId": "1672a801-0bed-4bd9-ad73-865b8c7c7053"
      },
      "execution_count": null,
      "outputs": [
        {
          "output_type": "execute_result",
          "data": {
            "text/plain": [
              "0    Sky AirTemp Humidity    Wind Water Forecast EnjoySpot\n",
              "1  Sunny    Warm   Normal  Strong  Warm     Same       Yes\n",
              "2  Sunny    Warm     High  Strong  Warm     Same       Yes\n",
              "3  Rainy    Cold     High  Strong  Warm   Change        No\n",
              "4  Sunny    Warm     High  Strong  Cool   Change       Yes"
            ],
            "text/html": [
              "\n",
              "  <div id=\"df-83768bdc-fc4e-44b7-a643-9bccfa351bb7\">\n",
              "    <div class=\"colab-df-container\">\n",
              "      <div>\n",
              "<style scoped>\n",
              "    .dataframe tbody tr th:only-of-type {\n",
              "        vertical-align: middle;\n",
              "    }\n",
              "\n",
              "    .dataframe tbody tr th {\n",
              "        vertical-align: top;\n",
              "    }\n",
              "\n",
              "    .dataframe thead th {\n",
              "        text-align: right;\n",
              "    }\n",
              "</style>\n",
              "<table border=\"1\" class=\"dataframe\">\n",
              "  <thead>\n",
              "    <tr style=\"text-align: right;\">\n",
              "      <th></th>\n",
              "      <th>Sky</th>\n",
              "      <th>AirTemp</th>\n",
              "      <th>Humidity</th>\n",
              "      <th>Wind</th>\n",
              "      <th>Water</th>\n",
              "      <th>Forecast</th>\n",
              "      <th>EnjoySpot</th>\n",
              "    </tr>\n",
              "  </thead>\n",
              "  <tbody>\n",
              "    <tr>\n",
              "      <th>1</th>\n",
              "      <td>Sunny</td>\n",
              "      <td>Warm</td>\n",
              "      <td>Normal</td>\n",
              "      <td>Strong</td>\n",
              "      <td>Warm</td>\n",
              "      <td>Same</td>\n",
              "      <td>Yes</td>\n",
              "    </tr>\n",
              "    <tr>\n",
              "      <th>2</th>\n",
              "      <td>Sunny</td>\n",
              "      <td>Warm</td>\n",
              "      <td>High</td>\n",
              "      <td>Strong</td>\n",
              "      <td>Warm</td>\n",
              "      <td>Same</td>\n",
              "      <td>Yes</td>\n",
              "    </tr>\n",
              "    <tr>\n",
              "      <th>3</th>\n",
              "      <td>Rainy</td>\n",
              "      <td>Cold</td>\n",
              "      <td>High</td>\n",
              "      <td>Strong</td>\n",
              "      <td>Warm</td>\n",
              "      <td>Change</td>\n",
              "      <td>No</td>\n",
              "    </tr>\n",
              "    <tr>\n",
              "      <th>4</th>\n",
              "      <td>Sunny</td>\n",
              "      <td>Warm</td>\n",
              "      <td>High</td>\n",
              "      <td>Strong</td>\n",
              "      <td>Cool</td>\n",
              "      <td>Change</td>\n",
              "      <td>Yes</td>\n",
              "    </tr>\n",
              "  </tbody>\n",
              "</table>\n",
              "</div>\n",
              "      <button class=\"colab-df-convert\" onclick=\"convertToInteractive('df-83768bdc-fc4e-44b7-a643-9bccfa351bb7')\"\n",
              "              title=\"Convert this dataframe to an interactive table.\"\n",
              "              style=\"display:none;\">\n",
              "        \n",
              "  <svg xmlns=\"http://www.w3.org/2000/svg\" height=\"24px\"viewBox=\"0 0 24 24\"\n",
              "       width=\"24px\">\n",
              "    <path d=\"M0 0h24v24H0V0z\" fill=\"none\"/>\n",
              "    <path d=\"M18.56 5.44l.94 2.06.94-2.06 2.06-.94-2.06-.94-.94-2.06-.94 2.06-2.06.94zm-11 1L8.5 8.5l.94-2.06 2.06-.94-2.06-.94L8.5 2.5l-.94 2.06-2.06.94zm10 10l.94 2.06.94-2.06 2.06-.94-2.06-.94-.94-2.06-.94 2.06-2.06.94z\"/><path d=\"M17.41 7.96l-1.37-1.37c-.4-.4-.92-.59-1.43-.59-.52 0-1.04.2-1.43.59L10.3 9.45l-7.72 7.72c-.78.78-.78 2.05 0 2.83L4 21.41c.39.39.9.59 1.41.59.51 0 1.02-.2 1.41-.59l7.78-7.78 2.81-2.81c.8-.78.8-2.07 0-2.86zM5.41 20L4 18.59l7.72-7.72 1.47 1.35L5.41 20z\"/>\n",
              "  </svg>\n",
              "      </button>\n",
              "      \n",
              "  <style>\n",
              "    .colab-df-container {\n",
              "      display:flex;\n",
              "      flex-wrap:wrap;\n",
              "      gap: 12px;\n",
              "    }\n",
              "\n",
              "    .colab-df-convert {\n",
              "      background-color: #E8F0FE;\n",
              "      border: none;\n",
              "      border-radius: 50%;\n",
              "      cursor: pointer;\n",
              "      display: none;\n",
              "      fill: #1967D2;\n",
              "      height: 32px;\n",
              "      padding: 0 0 0 0;\n",
              "      width: 32px;\n",
              "    }\n",
              "\n",
              "    .colab-df-convert:hover {\n",
              "      background-color: #E2EBFA;\n",
              "      box-shadow: 0px 1px 2px rgba(60, 64, 67, 0.3), 0px 1px 3px 1px rgba(60, 64, 67, 0.15);\n",
              "      fill: #174EA6;\n",
              "    }\n",
              "\n",
              "    [theme=dark] .colab-df-convert {\n",
              "      background-color: #3B4455;\n",
              "      fill: #D2E3FC;\n",
              "    }\n",
              "\n",
              "    [theme=dark] .colab-df-convert:hover {\n",
              "      background-color: #434B5C;\n",
              "      box-shadow: 0px 1px 3px 1px rgba(0, 0, 0, 0.15);\n",
              "      filter: drop-shadow(0px 1px 2px rgba(0, 0, 0, 0.3));\n",
              "      fill: #FFFFFF;\n",
              "    }\n",
              "  </style>\n",
              "\n",
              "      <script>\n",
              "        const buttonEl =\n",
              "          document.querySelector('#df-83768bdc-fc4e-44b7-a643-9bccfa351bb7 button.colab-df-convert');\n",
              "        buttonEl.style.display =\n",
              "          google.colab.kernel.accessAllowed ? 'block' : 'none';\n",
              "\n",
              "        async function convertToInteractive(key) {\n",
              "          const element = document.querySelector('#df-83768bdc-fc4e-44b7-a643-9bccfa351bb7');\n",
              "          const dataTable =\n",
              "            await google.colab.kernel.invokeFunction('convertToInteractive',\n",
              "                                                     [key], {});\n",
              "          if (!dataTable) return;\n",
              "\n",
              "          const docLinkHtml = 'Like what you see? Visit the ' +\n",
              "            '<a target=\"_blank\" href=https://colab.research.google.com/notebooks/data_table.ipynb>data table notebook</a>'\n",
              "            + ' to learn more about interactive tables.';\n",
              "          element.innerHTML = '';\n",
              "          dataTable['output_type'] = 'display_data';\n",
              "          await google.colab.output.renderOutput(dataTable, element);\n",
              "          const docLink = document.createElement('div');\n",
              "          docLink.innerHTML = docLinkHtml;\n",
              "          element.appendChild(docLink);\n",
              "        }\n",
              "      </script>\n",
              "    </div>\n",
              "  </div>\n",
              "  "
            ]
          },
          "metadata": {},
          "execution_count": 104
        }
      ]
    },
    {
      "cell_type": "code",
      "source": [
        "test = df.iloc[:,-1:]"
      ],
      "metadata": {
        "id": "BUdll2CeUINr"
      },
      "execution_count": null,
      "outputs": []
    },
    {
      "cell_type": "code",
      "source": [
        "print(test)"
      ],
      "metadata": {
        "colab": {
          "base_uri": "https://localhost:8080/"
        },
        "id": "4ly_JbZ_UNqr",
        "outputId": "6656ec72-d8e7-48ac-978c-03424016ce1b"
      },
      "execution_count": null,
      "outputs": [
        {
          "output_type": "stream",
          "name": "stdout",
          "text": [
            "0 EnjoySpot\n",
            "1       Yes\n",
            "2       Yes\n",
            "3        No\n",
            "4       Yes\n"
          ]
        }
      ]
    },
    {
      "cell_type": "code",
      "source": [
        "train = df.iloc[:,:6]"
      ],
      "metadata": {
        "id": "s3qdKz7iUPBb"
      },
      "execution_count": null,
      "outputs": []
    },
    {
      "cell_type": "code",
      "source": [
        "print(train)"
      ],
      "metadata": {
        "colab": {
          "base_uri": "https://localhost:8080/"
        },
        "id": "JUnTHpfiY3o7",
        "outputId": "f0baf47a-a0bd-4b2b-b792-fc9cae2f29d5"
      },
      "execution_count": null,
      "outputs": [
        {
          "output_type": "stream",
          "name": "stdout",
          "text": [
            "0    Sky AirTemp Humidity    Wind Water Forecast\n",
            "1  Sunny    Warm   Normal  Strong  Warm     Same\n",
            "2  Sunny    Warm     High  Strong  Warm     Same\n",
            "3  Rainy    Cold     High  Strong  Warm   Change\n",
            "4  Sunny    Warm     High  Strong  Cool   Change\n"
          ]
        }
      ]
    },
    {
      "cell_type": "code",
      "source": [
        "test = np.array(test)"
      ],
      "metadata": {
        "id": "nNrvNwBhaAPT"
      },
      "execution_count": null,
      "outputs": []
    },
    {
      "cell_type": "code",
      "source": [
        "print(test)"
      ],
      "metadata": {
        "colab": {
          "base_uri": "https://localhost:8080/"
        },
        "id": "pPZGjrhQamu7",
        "outputId": "abab6f12-047d-4b42-fba1-6d607c664795"
      },
      "execution_count": null,
      "outputs": [
        {
          "output_type": "stream",
          "name": "stdout",
          "text": [
            "[['Yes']\n",
            " ['Yes']\n",
            " ['No']\n",
            " ['Yes']]\n"
          ]
        }
      ]
    },
    {
      "cell_type": "code",
      "source": [
        "i=1\n",
        "for i in range(len(train)):\n",
        "   if(test[i] == \"Yes\"):\n",
        "     specfic_hypothesis = train.iloc[i]\n",
        "     break"
      ],
      "metadata": {
        "id": "iw4s1UzRayBj"
      },
      "execution_count": null,
      "outputs": []
    },
    {
      "cell_type": "code",
      "source": [
        "print(specfic_hypothesis)"
      ],
      "metadata": {
        "colab": {
          "base_uri": "https://localhost:8080/"
        },
        "id": "Y9GfN0JlbE0T",
        "outputId": "4be319eb-80e3-4d9a-f87a-d7f455065b4a"
      },
      "execution_count": null,
      "outputs": [
        {
          "output_type": "stream",
          "name": "stdout",
          "text": [
            "0\n",
            "Sky          Sunny\n",
            "AirTemp       Warm\n",
            "Humidity    Normal\n",
            "Wind        Strong\n",
            "Water         Warm\n",
            "Forecast      Same\n",
            "Name: 1, dtype: object\n"
          ]
        }
      ]
    },
    {
      "cell_type": "code",
      "source": [
        "i = 1\n",
        "for i in range(len(train)):\n",
        "  if(test[i] == \"Yes\"):\n",
        "    for j in range(len(specfic_hypothesis)):\n",
        "      if(train.iloc[i].iloc[j] != specfic_hypothesis.iloc[j]):\n",
        "        specfic_hypothesis[j]='?'\n",
        "\n",
        "\n",
        "print(specfic_hypothesis)"
      ],
      "metadata": {
        "colab": {
          "base_uri": "https://localhost:8080/"
        },
        "id": "opxQ0hzKbYo5",
        "outputId": "4e576184-3e6b-4c72-92d8-678a1fcc1b16"
      },
      "execution_count": null,
      "outputs": [
        {
          "output_type": "stream",
          "name": "stdout",
          "text": [
            "0\n",
            "Sky          Sunny\n",
            "AirTemp       Warm\n",
            "Humidity         ?\n",
            "Wind        Strong\n",
            "Water            ?\n",
            "Forecast         ?\n",
            "Name: 1, dtype: object\n"
          ]
        }
      ]
    },
    {
      "cell_type": "code",
      "source": [
        "print(\"Resulted Hypothesis:\")\n",
        "print(np.array(specfic_hypothesis))"
      ],
      "metadata": {
        "colab": {
          "base_uri": "https://localhost:8080/"
        },
        "id": "fZUE-BhcghVL",
        "outputId": "dff3d57f-143a-4db6-da8d-c85c3c380018"
      },
      "execution_count": null,
      "outputs": [
        {
          "output_type": "stream",
          "name": "stdout",
          "text": [
            "Resulted Hypothesis:\n",
            "['Sunny' 'Warm' '?' 'Strong' '?' '?']\n"
          ]
        }
      ]
    },
    {
      "cell_type": "markdown",
      "source": [
        "Other Example BUY OR NOT DATASET\n"
      ],
      "metadata": {
        "id": "d4WydOhffjKU"
      }
    },
    {
      "cell_type": "code",
      "source": [
        "df = pd.read_excel(\"/content/BUY.xlsx\")"
      ],
      "metadata": {
        "id": "osWOc-ayfooS"
      },
      "execution_count": null,
      "outputs": []
    },
    {
      "cell_type": "code",
      "source": [
        "print(df.columns)"
      ],
      "metadata": {
        "colab": {
          "base_uri": "https://localhost:8080/"
        },
        "id": "jUIFHm6Mfvrk",
        "outputId": "e988bc52-77c6-4886-9023-aca746cb5da7"
      },
      "execution_count": null,
      "outputs": [
        {
          "output_type": "stream",
          "name": "stdout",
          "text": [
            "Index(['Example', 'Citations', 'Size', 'inLibrary', 'price', 'editions',\n",
            "       'buy'],\n",
            "      dtype='object')\n"
          ]
        }
      ]
    },
    {
      "cell_type": "code",
      "source": [
        "print(df)"
      ],
      "metadata": {
        "colab": {
          "base_uri": "https://localhost:8080/"
        },
        "id": "7os7jEgOf1X4",
        "outputId": "1680134b-1d43-4344-96ea-11fe3d7acdad"
      },
      "execution_count": null,
      "outputs": [
        {
          "output_type": "stream",
          "name": "stdout",
          "text": [
            "   Example Citations    Size inLibrary       price editions  buy\n",
            "0        1      some   small        no  affordable     many  no \n",
            "1        2      many     big        no   expensive      one  yes\n",
            "2        3      some     big    always   expensive      few  no \n",
            "3        4      many  medium        no   expensive     many  yes\n",
            "4        5      many   small        no  affordable     many  yes\n"
          ]
        }
      ]
    },
    {
      "cell_type": "code",
      "source": [
        "df = df.drop([\"Example\"],axis=True)"
      ],
      "metadata": {
        "id": "vh_PeJ6Gf3Vo"
      },
      "execution_count": null,
      "outputs": []
    },
    {
      "cell_type": "code",
      "source": [
        "df"
      ],
      "metadata": {
        "colab": {
          "base_uri": "https://localhost:8080/",
          "height": 206
        },
        "id": "6EBY_fzdgYgf",
        "outputId": "86cc562d-9789-49b2-c90f-f9f5ea853c69"
      },
      "execution_count": null,
      "outputs": [
        {
          "output_type": "execute_result",
          "data": {
            "text/plain": [
              "  Citations    Size inLibrary       price editions  buy\n",
              "0      some   small        no  affordable     many  no \n",
              "1      many     big        no   expensive      one  yes\n",
              "2      some     big    always   expensive      few  no \n",
              "3      many  medium        no   expensive     many  yes\n",
              "4      many   small        no  affordable     many  yes"
            ],
            "text/html": [
              "\n",
              "  <div id=\"df-06a5592d-a570-4836-9f2e-b3f122e9b351\">\n",
              "    <div class=\"colab-df-container\">\n",
              "      <div>\n",
              "<style scoped>\n",
              "    .dataframe tbody tr th:only-of-type {\n",
              "        vertical-align: middle;\n",
              "    }\n",
              "\n",
              "    .dataframe tbody tr th {\n",
              "        vertical-align: top;\n",
              "    }\n",
              "\n",
              "    .dataframe thead th {\n",
              "        text-align: right;\n",
              "    }\n",
              "</style>\n",
              "<table border=\"1\" class=\"dataframe\">\n",
              "  <thead>\n",
              "    <tr style=\"text-align: right;\">\n",
              "      <th></th>\n",
              "      <th>Citations</th>\n",
              "      <th>Size</th>\n",
              "      <th>inLibrary</th>\n",
              "      <th>price</th>\n",
              "      <th>editions</th>\n",
              "      <th>buy</th>\n",
              "    </tr>\n",
              "  </thead>\n",
              "  <tbody>\n",
              "    <tr>\n",
              "      <th>0</th>\n",
              "      <td>some</td>\n",
              "      <td>small</td>\n",
              "      <td>no</td>\n",
              "      <td>affordable</td>\n",
              "      <td>many</td>\n",
              "      <td>no</td>\n",
              "    </tr>\n",
              "    <tr>\n",
              "      <th>1</th>\n",
              "      <td>many</td>\n",
              "      <td>big</td>\n",
              "      <td>no</td>\n",
              "      <td>expensive</td>\n",
              "      <td>one</td>\n",
              "      <td>yes</td>\n",
              "    </tr>\n",
              "    <tr>\n",
              "      <th>2</th>\n",
              "      <td>some</td>\n",
              "      <td>big</td>\n",
              "      <td>always</td>\n",
              "      <td>expensive</td>\n",
              "      <td>few</td>\n",
              "      <td>no</td>\n",
              "    </tr>\n",
              "    <tr>\n",
              "      <th>3</th>\n",
              "      <td>many</td>\n",
              "      <td>medium</td>\n",
              "      <td>no</td>\n",
              "      <td>expensive</td>\n",
              "      <td>many</td>\n",
              "      <td>yes</td>\n",
              "    </tr>\n",
              "    <tr>\n",
              "      <th>4</th>\n",
              "      <td>many</td>\n",
              "      <td>small</td>\n",
              "      <td>no</td>\n",
              "      <td>affordable</td>\n",
              "      <td>many</td>\n",
              "      <td>yes</td>\n",
              "    </tr>\n",
              "  </tbody>\n",
              "</table>\n",
              "</div>\n",
              "      <button class=\"colab-df-convert\" onclick=\"convertToInteractive('df-06a5592d-a570-4836-9f2e-b3f122e9b351')\"\n",
              "              title=\"Convert this dataframe to an interactive table.\"\n",
              "              style=\"display:none;\">\n",
              "        \n",
              "  <svg xmlns=\"http://www.w3.org/2000/svg\" height=\"24px\"viewBox=\"0 0 24 24\"\n",
              "       width=\"24px\">\n",
              "    <path d=\"M0 0h24v24H0V0z\" fill=\"none\"/>\n",
              "    <path d=\"M18.56 5.44l.94 2.06.94-2.06 2.06-.94-2.06-.94-.94-2.06-.94 2.06-2.06.94zm-11 1L8.5 8.5l.94-2.06 2.06-.94-2.06-.94L8.5 2.5l-.94 2.06-2.06.94zm10 10l.94 2.06.94-2.06 2.06-.94-2.06-.94-.94-2.06-.94 2.06-2.06.94z\"/><path d=\"M17.41 7.96l-1.37-1.37c-.4-.4-.92-.59-1.43-.59-.52 0-1.04.2-1.43.59L10.3 9.45l-7.72 7.72c-.78.78-.78 2.05 0 2.83L4 21.41c.39.39.9.59 1.41.59.51 0 1.02-.2 1.41-.59l7.78-7.78 2.81-2.81c.8-.78.8-2.07 0-2.86zM5.41 20L4 18.59l7.72-7.72 1.47 1.35L5.41 20z\"/>\n",
              "  </svg>\n",
              "      </button>\n",
              "      \n",
              "  <style>\n",
              "    .colab-df-container {\n",
              "      display:flex;\n",
              "      flex-wrap:wrap;\n",
              "      gap: 12px;\n",
              "    }\n",
              "\n",
              "    .colab-df-convert {\n",
              "      background-color: #E8F0FE;\n",
              "      border: none;\n",
              "      border-radius: 50%;\n",
              "      cursor: pointer;\n",
              "      display: none;\n",
              "      fill: #1967D2;\n",
              "      height: 32px;\n",
              "      padding: 0 0 0 0;\n",
              "      width: 32px;\n",
              "    }\n",
              "\n",
              "    .colab-df-convert:hover {\n",
              "      background-color: #E2EBFA;\n",
              "      box-shadow: 0px 1px 2px rgba(60, 64, 67, 0.3), 0px 1px 3px 1px rgba(60, 64, 67, 0.15);\n",
              "      fill: #174EA6;\n",
              "    }\n",
              "\n",
              "    [theme=dark] .colab-df-convert {\n",
              "      background-color: #3B4455;\n",
              "      fill: #D2E3FC;\n",
              "    }\n",
              "\n",
              "    [theme=dark] .colab-df-convert:hover {\n",
              "      background-color: #434B5C;\n",
              "      box-shadow: 0px 1px 3px 1px rgba(0, 0, 0, 0.15);\n",
              "      filter: drop-shadow(0px 1px 2px rgba(0, 0, 0, 0.3));\n",
              "      fill: #FFFFFF;\n",
              "    }\n",
              "  </style>\n",
              "\n",
              "      <script>\n",
              "        const buttonEl =\n",
              "          document.querySelector('#df-06a5592d-a570-4836-9f2e-b3f122e9b351 button.colab-df-convert');\n",
              "        buttonEl.style.display =\n",
              "          google.colab.kernel.accessAllowed ? 'block' : 'none';\n",
              "\n",
              "        async function convertToInteractive(key) {\n",
              "          const element = document.querySelector('#df-06a5592d-a570-4836-9f2e-b3f122e9b351');\n",
              "          const dataTable =\n",
              "            await google.colab.kernel.invokeFunction('convertToInteractive',\n",
              "                                                     [key], {});\n",
              "          if (!dataTable) return;\n",
              "\n",
              "          const docLinkHtml = 'Like what you see? Visit the ' +\n",
              "            '<a target=\"_blank\" href=https://colab.research.google.com/notebooks/data_table.ipynb>data table notebook</a>'\n",
              "            + ' to learn more about interactive tables.';\n",
              "          element.innerHTML = '';\n",
              "          dataTable['output_type'] = 'display_data';\n",
              "          await google.colab.output.renderOutput(dataTable, element);\n",
              "          const docLink = document.createElement('div');\n",
              "          docLink.innerHTML = docLinkHtml;\n",
              "          element.appendChild(docLink);\n",
              "        }\n",
              "      </script>\n",
              "    </div>\n",
              "  </div>\n",
              "  "
            ]
          },
          "metadata": {},
          "execution_count": 16
        }
      ]
    },
    {
      "cell_type": "code",
      "source": [
        "test = df.iloc[:,-1:]"
      ],
      "metadata": {
        "id": "eP2XjYregiQr"
      },
      "execution_count": null,
      "outputs": []
    },
    {
      "cell_type": "code",
      "source": [
        "print(test)"
      ],
      "metadata": {
        "colab": {
          "base_uri": "https://localhost:8080/"
        },
        "id": "UoDJAiW9gt6s",
        "outputId": "5e66ba9a-1414-472f-807c-309268e7b85b"
      },
      "execution_count": null,
      "outputs": [
        {
          "output_type": "stream",
          "name": "stdout",
          "text": [
            "   buy\n",
            "0  no \n",
            "1  yes\n",
            "2  no \n",
            "3  yes\n",
            "4  yes\n"
          ]
        }
      ]
    },
    {
      "cell_type": "code",
      "source": [
        "train = df.iloc[:,:5]"
      ],
      "metadata": {
        "id": "HKxbXNJKgwww"
      },
      "execution_count": null,
      "outputs": []
    },
    {
      "cell_type": "code",
      "source": [
        "print(train)"
      ],
      "metadata": {
        "colab": {
          "base_uri": "https://localhost:8080/"
        },
        "id": "W582hmRtgy8k",
        "outputId": "3e83e379-7b7a-4511-d4e2-f33bbf0b34b4"
      },
      "execution_count": null,
      "outputs": [
        {
          "output_type": "stream",
          "name": "stdout",
          "text": [
            "  Citations    Size inLibrary       price editions\n",
            "0      some   small        no  affordable     many\n",
            "1      many     big        no   expensive      one\n",
            "2      some     big    always   expensive      few\n",
            "3      many  medium        no   expensive     many\n",
            "4      many   small        no  affordable     many\n"
          ]
        }
      ]
    },
    {
      "cell_type": "code",
      "source": [
        "test = np.array(test)"
      ],
      "metadata": {
        "id": "Mxo8B7OKhHZa"
      },
      "execution_count": null,
      "outputs": []
    },
    {
      "cell_type": "code",
      "source": [
        "print(test)"
      ],
      "metadata": {
        "colab": {
          "base_uri": "https://localhost:8080/"
        },
        "id": "Qw5dPDyahK8W",
        "outputId": "bd958206-2058-4124-c30a-2316f86f5099"
      },
      "execution_count": null,
      "outputs": [
        {
          "output_type": "stream",
          "name": "stdout",
          "text": [
            "[['no ']\n",
            " ['yes']\n",
            " ['no ']\n",
            " ['yes']\n",
            " ['yes']]\n"
          ]
        }
      ]
    },
    {
      "cell_type": "code",
      "source": [
        "i=1\n",
        "for i in range(len(train)):\n",
        "   if(test[i] == \"yes\"):\n",
        "     specfic_hypothesis = train.iloc[i]\n",
        "     break"
      ],
      "metadata": {
        "id": "LHO57cmAhNM9"
      },
      "execution_count": null,
      "outputs": []
    },
    {
      "cell_type": "code",
      "source": [
        "print(specfic_hypothesis)"
      ],
      "metadata": {
        "colab": {
          "base_uri": "https://localhost:8080/"
        },
        "id": "UEnTFYQIhPU2",
        "outputId": "f0b8ccdf-2484-40b1-c95d-7371a07d64af"
      },
      "execution_count": null,
      "outputs": [
        {
          "output_type": "stream",
          "name": "stdout",
          "text": [
            "Citations         many\n",
            "Size               big\n",
            "inLibrary           no\n",
            "price        expensive\n",
            "editions           one\n",
            "Name: 1, dtype: object\n"
          ]
        }
      ]
    },
    {
      "cell_type": "code",
      "source": [
        "i = 1\n",
        "for i in range(len(train)):\n",
        "  if(test[i] == \"yes\"):\n",
        "    for j in range(len(specfic_hypothesis)):\n",
        "      if(train.iloc[i].iloc[j] != specfic_hypothesis.iloc[j]):\n",
        "        specfic_hypothesis[j]='?'\n",
        "\n",
        "\n",
        "print(specfic_hypothesis)"
      ],
      "metadata": {
        "colab": {
          "base_uri": "https://localhost:8080/"
        },
        "id": "ToSOpR-phR2C",
        "outputId": "8fa40b39-f283-4fc7-d45a-f83244e4ea35"
      },
      "execution_count": null,
      "outputs": [
        {
          "output_type": "stream",
          "name": "stdout",
          "text": [
            "Citations    many\n",
            "Size            ?\n",
            "inLibrary      no\n",
            "price           ?\n",
            "editions        ?\n",
            "Name: 1, dtype: object\n"
          ]
        }
      ]
    },
    {
      "cell_type": "code",
      "source": [
        "print(\"Resulted Hypothesis:\")\n",
        "print(np.array(specfic_hypothesis))"
      ],
      "metadata": {
        "colab": {
          "base_uri": "https://localhost:8080/"
        },
        "id": "pTesfzmRhYXz",
        "outputId": "0ea6387f-a520-4df5-bb7a-41fcb9d244ea"
      },
      "execution_count": null,
      "outputs": [
        {
          "output_type": "stream",
          "name": "stdout",
          "text": [
            "Resulted Hypothesis:\n",
            "['many' '?' 'no' '?' '?']\n"
          ]
        }
      ]
    },
    {
      "cell_type": "code",
      "source": [],
      "metadata": {
        "id": "kIlseYTxhdEl"
      },
      "execution_count": null,
      "outputs": []
    }
  ]
}