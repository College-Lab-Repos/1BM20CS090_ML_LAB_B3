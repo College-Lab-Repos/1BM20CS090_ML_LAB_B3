{
  "nbformat": 4,
  "nbformat_minor": 0,
  "metadata": {
    "colab": {
      "provenance": []
    },
    "kernelspec": {
      "name": "python3",
      "display_name": "Python 3"
    },
    "language_info": {
      "name": "python"
    }
  },
  "cells": [
    {
      "cell_type": "code",
      "execution_count": null,
      "metadata": {
        "colab": {
          "base_uri": "https://localhost:8080/"
        },
        "id": "YGd5g909jJcZ",
        "outputId": "3592b2c6-486a-40d7-eae4-c366893f88c6"
      },
      "outputs": [
        {
          "output_type": "execute_result",
          "data": {
            "text/plain": [
              "[[2.7810836, 2.550537003, 0],\n",
              " [1.465489372, 2.362125076, 0],\n",
              " [3.396561688, 4.400293529, 0],\n",
              " [1.38807019, 1.850220317, 0],\n",
              " [3.06407232, 3.005305973, 0],\n",
              " [7.627531214, 2.759262235, 1],\n",
              " [5.332441248, 2.088626775, 1],\n",
              " [6.922596716, 1.77106367, 1],\n",
              " [8.675418651, -0.242068655, 1],\n",
              " [7.673756466, 3.508563011, 1]]"
            ]
          },
          "metadata": {},
          "execution_count": 1
        }
      ],
      "source": [
        "dataset = [\n",
        "    [2.7810836,2.550537003,0],\n",
        "    [1.465489372,2.362125076,0],\n",
        "    [3.396561688,4.400293529,0],\n",
        "    [1.38807019,1.850220317,0],\n",
        "    [3.06407232,3.005305973,0],\n",
        "    [7.627531214,2.759262235,1],\n",
        "    [5.332441248,2.088626775,1],\n",
        "    [6.922596716,1.77106367,1],\n",
        "    [8.675418651,-0.242068655,1],\n",
        "    [7.673756466,3.508563011,1]\n",
        "]\n",
        "dataset"
      ]
    },
    {
      "cell_type": "code",
      "source": [
        "from math import sqrt\n",
        "import numpy as np"
      ],
      "metadata": {
        "id": "qowLFDNbjPPG"
      },
      "execution_count": null,
      "outputs": []
    },
    {
      "cell_type": "code",
      "source": [
        "def Euclidean_distance(row1, row2):\n",
        "    distance = 0\n",
        "    for i in range(len(row1)-1):\n",
        "        distance += (row1[i] - row2[i])**2            #(x1-x2)**2+(y1-y2)**2\n",
        "    return sqrt(distance)"
      ],
      "metadata": {
        "id": "PPjAFlGbjR-W"
      },
      "execution_count": null,
      "outputs": []
    },
    {
      "cell_type": "code",
      "source": [
        "def Get_Neighbors(train, test_row, num):\n",
        "    distance = list() # []\n",
        "    data = []\n",
        "    for i in train:\n",
        "        dist = Euclidean_distance(test_row, i)\n",
        "        distance.append(dist)\n",
        "        data.append(i)\n",
        "    distance = np.array(distance)\n",
        "    data =np.array(data)\n",
        "    index_dist = distance.argsort()\n",
        "    data = data[index_dist]\n",
        "    neighbors = data[:num]\n",
        "\n",
        "    return neighbors"
      ],
      "metadata": {
        "id": "RM_0HUh3jWzW"
      },
      "execution_count": null,
      "outputs": []
    },
    {
      "cell_type": "code",
      "source": [
        "def predict_classification(train, test_row, num):\n",
        "    Neighbors = Get_Neighbors(train, test_row, num)\n",
        "    Classes = []\n",
        "    for i in Neighbors:\n",
        "        Classes.append(i[-1])\n",
        "    prediction = max(Classes, key= Classes.count)\n",
        "    return prediction"
      ],
      "metadata": {
        "id": "XcbSRdvmjbQ2"
      },
      "execution_count": null,
      "outputs": []
    },
    {
      "cell_type": "code",
      "source": [
        "test=[4.0097563,4.0028262828,-1];"
      ],
      "metadata": {
        "id": "B8KDJQbujdTt"
      },
      "execution_count": null,
      "outputs": []
    },
    {
      "cell_type": "code",
      "source": [
        "prediction = predict_classification(dataset, test, 4)\n",
        "print(\"We expected {}, Got {}\".format(test[-1], prediction))"
      ],
      "metadata": {
        "colab": {
          "base_uri": "https://localhost:8080/"
        },
        "id": "lp3e0Wh8jfL3",
        "outputId": "b983eb32-12a7-4933-cd5d-9809013a2ce4"
      },
      "execution_count": null,
      "outputs": [
        {
          "output_type": "stream",
          "name": "stdout",
          "text": [
            "We expected -1, Got 0.0\n"
          ]
        }
      ]
    },
    {
      "cell_type": "code",
      "source": [
        "\n"
      ],
      "metadata": {
        "id": "8AgfcvtZls2u"
      },
      "execution_count": null,
      "outputs": []
    }
  ]
}