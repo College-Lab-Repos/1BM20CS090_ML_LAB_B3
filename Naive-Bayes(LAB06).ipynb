{
  "nbformat": 4,
  "nbformat_minor": 0,
  "metadata": {
    "colab": {
      "provenance": []
    },
    "kernelspec": {
      "name": "python3",
      "display_name": "Python 3"
    },
    "language_info": {
      "name": "python"
    }
  },
  "cells": [
    {
      "cell_type": "code",
      "execution_count": null,
      "metadata": {
        "id": "PHu7Q_B8nvhP"
      },
      "outputs": [],
      "source": [
        "import math;\n",
        "import sys;\n",
        "import pandas as pd\n",
        "import numpy as np\n",
        "from random import choice\n",
        "from matplotlib import pyplot\n",
        "from random import shuffle, uniform;\n"
      ]
    },
    {
      "cell_type": "code",
      "source": [
        "def ReadData(fileName):\n",
        "    f = open(fileName,'r')\n",
        "    lines = f.read().splitlines()\n",
        "    f.close()\n",
        "\n",
        "    items = []\n",
        "\n",
        "    for i in range(1,len(lines)):\n",
        "        line = lines[i].split(',')\n",
        "        itemFeatures = []\n",
        "\n",
        "        for j in range(len(line)-1):\n",
        "            v = float(line[j])\n",
        "            itemFeatures.append(v)\n",
        "        items.append(itemFeatures)\n",
        "\n",
        "    shuffle(items)\n",
        "\n",
        "    return items"
      ],
      "metadata": {
        "id": "zlAoq6hCoBGC"
      },
      "execution_count": null,
      "outputs": []
    },
    {
      "cell_type": "code",
      "source": [
        "def FindColMinMax(items):\n",
        "    n = len(items[0])\n",
        "    minima = [float('inf') for i in range(n)]\n",
        "    maxima = [float('-inf') -1 for i in range(n)]\n",
        "\n",
        "    for item in items:\n",
        "        for f in range(len(item)):\n",
        "            if(item[f] < minima[f]):\n",
        "                minima[f] = item[f]\n",
        "\n",
        "            if(item[f] > maxima[f]):\n",
        "                maxima[f] = item[f]\n",
        "\n",
        "    return minima,maxima\n",
        "\n",
        "def EuclideanDistance(x,y):\n",
        "    S = 0\n",
        "    for i in range(len(x)):\n",
        "        S += math.pow(x[i]-y[i],2)\n",
        "\n",
        "    return math.sqrt(S)"
      ],
      "metadata": {
        "id": "zYq7EWoAofuQ"
      },
      "execution_count": null,
      "outputs": []
    },
    {
      "cell_type": "code",
      "source": [
        "def InitializeMeans(items,k,cMin,cMax):\n",
        "    f = len(items[0])\n",
        "    means = [[0 for i in range(f)] for j in range(k)]\n",
        "\n",
        "    for mean in means:\n",
        "        for i in range(len(mean)):\n",
        "            mean[i] = uniform(cMin[i]+1,cMax[i]-1)\n",
        "\n",
        "    return means\n",
        "\n",
        "def UpdateMean(n,mean,item):\n",
        "    for i in range(len(mean)):\n",
        "        m = mean[i]\n",
        "        m = (m*(n-1)+item[i])/float(n)\n",
        "        mean[i] = round(m,3)\n",
        "\n",
        "    return mean\n",
        "\n",
        "\n",
        "def FindClusters(means,items):\n",
        "    clusters = [[] for i in range(len(means))]\n",
        "\n",
        "    for item in items:\n",
        "        index = Classify(means,item)\n",
        "        clusters[index].append(item)\n",
        "\n",
        "    return clusters\n"
      ],
      "metadata": {
        "id": "bd_kvn3_ogm-"
      },
      "execution_count": null,
      "outputs": []
    },
    {
      "cell_type": "code",
      "source": [
        "def Classify(means,item):\n",
        "\n",
        "    minimum = float('inf');\n",
        "    index = -1\n",
        "\n",
        "    for i in range(len(means)):\n",
        "        dis = EuclideanDistance(item,means[i])\n",
        "\n",
        "        if(dis < minimum):\n",
        "            minimum = dis\n",
        "            index = i\n",
        "\n",
        "    return index\n",
        "\n",
        "def CalculateMeans(k,items,maxIterations=100000):\n",
        "    cMin, cMax = FindColMinMax(items)\n",
        "\n",
        "    means = InitializeMeans(items,k,cMin,cMax)\n",
        "\n",
        "    clusterSizes = [0 for i in range(len(means))]\n",
        "\n",
        "    belongsTo = [0 for i in range(len(items))]\n",
        "\n",
        "    for e in range(maxIterations):\n",
        "        noChange = True;\n",
        "        for i in range(len(items)):\n",
        "            item = items[i];\n",
        "            index = Classify(means,item)\n",
        "            clusterSizes[index] += 1\n",
        "            cSize = clusterSizes[index]\n",
        "            means[index] = UpdateMean(cSize,means[index],item)\n",
        "\n",
        "            if(index != belongsTo[i]):\n",
        "                noChange = False\n",
        "            belongsTo[i] = index\n",
        "\n",
        "        if (noChange):\n",
        "            break\n",
        "\n",
        "    return means\n"
      ],
      "metadata": {
        "id": "azE7U9TYokVO"
      },
      "execution_count": null,
      "outputs": []
    },
    {
      "cell_type": "code",
      "source": [
        "def CutToTwoFeatures(items,indexA,indexB):\n",
        "    n = len(items)\n",
        "    X = []\n",
        "    for i in range(n):\n",
        "        item = items[i]\n",
        "        newItem = [item[indexA],item[indexB]]\n",
        "        X.append(newItem)\n",
        "\n",
        "    return X\n",
        "\n",
        "def PlotClusters(clusters):\n",
        "    n = len(clusters)\n",
        "    X = [[] for i in range(n)]\n",
        "\n",
        "    for i in range(n):\n",
        "        cluster = clusters[i]\n",
        "        for item in cluster:\n",
        "            X[i].append(item)\n",
        "\n",
        "    colors = ['r','b','g','c','m','y']\n",
        "\n",
        "    for x in X:\n",
        "        c = choice(colors)\n",
        "        colors.remove(c)\n",
        "\n",
        "        Xa = []\n",
        "        Xb = []\n",
        "\n",
        "        for item in x:\n",
        "            Xa.append(item[0])\n",
        "            Xb.append(item[1])\n",
        "\n",
        "        pyplot.plot(Xa,Xb,'o',color=c)\n",
        "\n",
        "    pyplot.show()\n"
      ],
      "metadata": {
        "id": "9_LrsxHeooqu"
      },
      "execution_count": null,
      "outputs": []
    },
    {
      "cell_type": "code",
      "source": [
        "def main():\n",
        "    items = ReadData('/content/drive/MyDrive/ML-Datasets/dataset.txt')\n",
        "    k = 3\n",
        "    items = CutToTwoFeatures(items,2,3)\n",
        "    print(items)\n",
        "    means = CalculateMeans(k,items)\n",
        "    print(\"\\nMeans = \", means)\n",
        "\n",
        "    clusters = FindClusters(means,items)\n",
        "\n",
        "    PlotClusters(clusters)\n",
        "    newItem = [1.5,0.2]\n",
        "    print(Classify(means,newItem))\n",
        "\n",
        "if __name__ == \"__main__\":\n",
        "    main()\n"
      ],
      "metadata": {
        "colab": {
          "base_uri": "https://localhost:8080/",
          "height": 519
        },
        "id": "7VxCcECmotCm",
        "outputId": "1753fd07-5c39-430a-9b57-8845e9257cad"
      },
      "execution_count": null,
      "outputs": [
        {
          "output_type": "stream",
          "name": "stdout",
          "text": [
            "[[1.5, 0.2], [1.4, 0.2], [5.2, 2.0], [6.1, 1.9], [5.8, 2.2], [1.3, 0.2], [1.4, 0.2], [5.7, 2.1], [1.1, 0.1], [5.8, 1.8], [5.7, 2.3], [1.3, 0.3], [4.7, 1.2], [5.4, 2.3], [4.5, 1.5], [1.6, 0.4], [6.0, 2.5], [4.0, 1.3], [1.4, 0.2], [4.6, 1.5], [4.7, 1.4], [3.8, 1.1], [1.5, 0.2], [4.0, 1.3], [3.3, 1.0], [1.7, 0.2], [5.6, 2.4], [4.5, 1.5], [5.6, 1.4], [5.2, 2.3], [5.1, 1.5], [1.3, 0.2], [1.9, 0.4], [5.0, 2.0], [1.5, 0.4], [5.6, 2.2], [5.5, 2.1], [5.1, 2.3], [4.4, 1.4], [1.5, 0.4], [1.6, 0.6], [6.1, 2.3], [4.1, 1.3], [5.1, 1.6], [4.2, 1.5], [6.9, 2.3], [1.5, 0.1], [5.9, 2.3], [1.2, 0.2], [4.7, 1.4], [1.6, 0.2], [1.3, 0.2], [1.6, 0.2], [4.2, 1.2], [6.7, 2.2], [1.5, 0.1], [1.5, 0.1], [4.8, 1.8], [1.6, 0.2], [1.5, 0.1], [1.5, 0.2], [1.3, 0.4], [3.0, 1.1], [4.3, 1.3], [4.2, 1.3], [4.0, 1.0], [4.5, 1.5], [4.8, 1.8], [1.7, 0.4], [4.4, 1.3], [4.9, 1.5], [6.7, 2.0], [1.4, 0.3], [4.4, 1.2], [5.4, 2.1], [4.9, 1.8], [4.2, 1.3], [5.0, 1.9], [6.1, 2.5], [5.6, 2.4], [5.9, 2.1], [5.0, 1.7], [1.5, 0.2], [4.3, 1.3], [3.7, 1.0], [1.4, 0.2], [4.9, 1.5], [4.1, 1.0], [5.6, 1.8], [1.4, 0.2], [5.1, 1.9], [6.6, 2.1], [4.0, 1.2], [6.0, 1.8], [1.4, 0.1], [1.5, 0.4], [1.3, 0.3], [1.7, 0.3], [1.4, 0.3], [1.6, 0.2], [4.6, 1.4], [5.1, 1.9], [5.0, 1.5], [5.3, 1.9], [1.7, 0.5], [4.9, 1.8], [3.5, 1.0], [6.4, 2.0], [4.8, 1.8], [5.3, 2.3], [5.6, 2.1], [3.9, 1.2], [5.5, 1.8], [4.6, 1.3], [4.7, 1.5], [5.1, 1.8], [1.6, 0.2], [4.5, 1.3], [5.1, 2.4], [1.4, 0.3], [4.5, 1.5], [1.9, 0.2], [1.5, 0.3], [1.2, 0.2], [5.7, 2.5], [1.5, 0.2], [1.4, 0.2], [4.4, 1.4], [5.1, 2.0], [4.1, 1.3], [3.9, 1.1], [3.5, 1.0], [3.9, 1.4], [5.8, 1.6], [5.5, 1.8], [6.3, 1.8], [4.8, 1.4], [4.5, 1.7], [1.5, 0.2], [4.7, 1.6], [1.0, 0.2], [3.6, 1.3], [1.3, 0.2], [3.3, 1.0], [4.5, 1.6], [1.4, 0.2], [4.5, 1.5], [4.9, 2.0], [4.0, 1.3]]\n",
            "\n",
            "Means =  [[5.634, 2.05], [4.298, 1.361], [1.463, 0.253]]\n"
          ]
        },
        {
          "output_type": "display_data",
          "data": {
            "text/plain": [
              "<Figure size 640x480 with 1 Axes>"
            ],
            "image/png": "[encoded data removed]"
          },
          "metadata": {}
        },
        {
          "output_type": "stream",
          "name": "stdout",
          "text": [
            "2\n"
          ]
        }
      ]
    },
    {
      "cell_type": "code",
      "source": [],
      "metadata": {
        "id": "zZM34ZkaQqU5"
      },
      "execution_count": null,
      "outputs": []
    }
  ]
}